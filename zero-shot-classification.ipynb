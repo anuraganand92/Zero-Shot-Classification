{
  "cells": [
    {
      "cell_type": "code",
      "execution_count": 18,
      "metadata": {
        "id": "JUaFLkxpvGX0"
      },
      "outputs": [],
      "source": [
        "from transformers import pipeline\n",
        "\n",
        "\n",
        "classifier = pipeline(\n",
        "    \"zero-shot-classification\",\n",
        "    model=\"valhalla/distilbart-mnli-12-3\"\n",
        ")\n",
        "\n",
        "\n",
        "def Runmodel(description):\n",
        "    labels = [\n",
        "        \"Shopping\",\n",
        "        \"Food\",\n",
        "        \"Investments\",\n",
        "        \"Entertainment\",\n",
        "        \"Travel\",\n",
        "        \"Utilities\",\n",
        "        \"Insurance\",\n",
        "    ]\n",
        "    hypothesis_template = \"This text is about {}.\"\n",
        "    prediction = classifier(\n",
        "        description, labels, hypothesis_template=hypothesis_template, multi_labels=True\n",
        "    )\n",
        "    result = []\n",
        "    for pred in prediction:\n",
        "        print(pred)\n",
        "        result.append(pred['labels'][0] if float(pred['scores'][0]) >= 0.5 else 'Misc.')\n",
        "    return result\n"
      ]
    },
    {
      "cell_type": "code",
      "execution_count": 1,
      "metadata": {
        "colab": {
          "base_uri": "https://localhost:8080/"
        },
        "id": "4qnHlBj7vIbG",
        "outputId": "102c3e8d-e329-40a2-93c0-1ef6c99ef1ae"
      },
      "outputs": [
        {
          "name": "stdout",
          "output_type": "stream",
          "text": [
            "Accuracy: 0.6666666666666666\n",
            "Precision: 0.6958333333333334\n",
            "Recall: 0.6666666666666666\n",
            "F1 score: 0.6619995501574448\n"
          ]
        }
      ],
      "source": [
        "import pandas as pd\n",
        "from sklearn.feature_extraction.text import CountVectorizer\n",
        "from sklearn.model_selection import train_test_split\n",
        "from sklearn.linear_model import LogisticRegression\n",
        "from sklearn.metrics import accuracy_score, precision_score, recall_score, f1_score\n",
        "\n",
        "# Load the CSV data into a DataFrame\n",
        "data = pd.read_csv('transactions.csv')\n",
        "\n",
        "# Extract the 'description' and 'category' columns\n",
        "descriptions = data['description']\n",
        "categories = data['category']\n",
        "\n",
        "# Split the data into training and testing sets\n",
        "train_descriptions, test_descriptions, train_categories, test_categories = train_test_split(\n",
        "    descriptions, categories, test_size=0.2, random_state=42)\n",
        "\n",
        "# Create a vectorizer to convert text data into numerical features\n",
        "vectorizer = CountVectorizer()\n",
        "\n",
        "# Convert the text descriptions into numerical features\n",
        "X_train = vectorizer.fit_transform(train_descriptions)\n",
        "X_test = vectorizer.transform(test_descriptions)\n",
        "\n",
        "# Train a logistic regression classifier\n",
        "classifier = LogisticRegression()\n",
        "classifier.fit(X_train, train_categories)\n",
        "\n",
        "# Predict categories for the testing data\n",
        "predictions = classifier.predict(X_test)\n",
        "\n",
        "# Calculate evaluation metrics\n",
        "accuracy = accuracy_score(test_categories, predictions)\n",
        "precision = precision_score(test_categories, predictions, average='weighted', zero_division=0)\n",
        "recall = recall_score(test_categories, predictions, average='weighted', zero_division=0)\n",
        "f1 = f1_score(test_categories, predictions, average='weighted')\n",
        "\n",
        "# Print the evaluation metrics\n",
        "print(\"Accuracy:\", accuracy)\n",
        "print(\"Precision:\", precision)\n",
        "print(\"Recall:\", recall)\n",
        "print(\"F1 score:\", f1)\n"
      ]
    }
  ],
  "metadata": {
    "colab": {
      "provenance": []
    },
    "kernelspec": {
      "display_name": "Python 3",
      "name": "python3"
    },
    "language_info": {
      "codemirror_mode": {
        "name": "ipython",
        "version": 3
      },
      "file_extension": ".py",
      "mimetype": "text/x-python",
      "name": "python",
      "nbconvert_exporter": "python",
      "pygments_lexer": "ipython3",
      "version": "3.9.7"
    }
  },
  "nbformat": 4,
  "nbformat_minor": 0
}
